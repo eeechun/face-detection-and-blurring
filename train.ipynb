{
 "cells": [
  {
   "cell_type": "code",
   "execution_count": 1,
   "metadata": {},
   "outputs": [],
   "source": [
    "import torch\n",
    "import torch.nn as nn\n",
    "import torchvision.transforms as transforms\n",
    "from torch.utils.data import Dataset, DataLoader\n",
    "import os\n",
    "import numpy as np\n",
    "from PIL import Image\n",
    "\n",
    "# This is for the progress bar.\n",
    "from tqdm.auto import tqdm"
   ]
  },
  {
   "cell_type": "code",
   "execution_count": 6,
   "metadata": {},
   "outputs": [],
   "source": [
    "# parameters\n",
    "# The number of training epochs and patience.\n",
    "batch_size = 4\n",
    "n_epochs = 20\n",
    "# n_epochs = 0  # to get statistics (control whether to train)\n",
    "patience = 5  # If no improvement in 'patience' epochs, early stop\n",
    "\n",
    "## blur\n",
    "### b15\n",
    "# train_set_dir = \"blur/15/train\"\n",
    "# test_set_dir = \"blur/15/test\"\n",
    "# model_path = \"./model_b15.ckpt\"\n",
    "\n",
    "### b45\n",
    "# train_set_dir = \"blur/45/train/\"\n",
    "# test_set_dir = \"blur/45/test/\"\n",
    "# model_path = \"./model_b45.ckpt\"\n",
    "\n",
    "### b99\n",
    "# train_set_dir = \"blur/99/train/\"\n",
    "# test_set_dir = \"blur/99/test/\"\n",
    "# model_path = \"./model_b99.ckpt\"\n",
    "\n",
    "## pixel\n",
    "### p4\n",
    "train_set_dir = \"pixel/4/train/\"\n",
    "test_set_dir = \"pixel/4/test/\"\n",
    "model_path = \"./model_p4.ckpt\"\n",
    "\n",
    "### p8\n",
    "# train_set_dir = \"pixel/8/train/\"\n",
    "# test_set_dir = \"pixel/8/test/\"\n",
    "# model_path = \"./model_p8.ckpt\"\n",
    "\n",
    "### p16\n",
    "# train_set_dir = \"pixel/16/train/\"\n",
    "# test_set_dir = \"pixel/16/test/\"\n",
    "# model_path = \"./model_p16.ckpt\""
   ]
  },
  {
   "cell_type": "code",
   "execution_count": 7,
   "metadata": {},
   "outputs": [],
   "source": [
    "transform = transforms.Compose(\n",
    "    [transforms.ToTensor(),\n",
    "     transforms.Resize((128,128)),\n",
    "     transforms.Normalize((0.5, 0.5, 0.5), (0.5, 0.5, 0.5))])"
   ]
  },
  {
   "cell_type": "code",
   "execution_count": 8,
   "metadata": {},
   "outputs": [],
   "source": [
    "class mydataset(Dataset):\n",
    "    def __init__(self, path, tfm=transform, files=None):\n",
    "        super(mydataset).__init__()\n",
    "        self.path = path\n",
    "        self.files = sorted(\n",
    "            [os.path.join(path, x) for x in os.listdir(path) if x.endswith(\".png\")]\n",
    "        )\n",
    "        if files:\n",
    "            self.files = files\n",
    "        print(f\"One {path} sample\", self.files[0])\n",
    "        self.transform = tfm\n",
    "\n",
    "    def __len__(self):\n",
    "        return len(self.files)\n",
    "\n",
    "    def __getitem__(self, idx):\n",
    "        fname = self.files[idx]\n",
    "        im = Image.open(fname)\n",
    "        im = self.transform(im)\n",
    "        # im = self.data[idx]\n",
    "        try:\n",
    "            label = int(fname.split(\"s\")[-1].split(\"_\")[0])\n",
    "        except:\n",
    "            label = -1  # test has no label\n",
    "        return im, label"
   ]
  },
  {
   "cell_type": "code",
   "execution_count": 9,
   "metadata": {},
   "outputs": [
    {
     "name": "stdout",
     "output_type": "stream",
     "text": [
      "One pixel/4/train/ sample pixel/4/train/s10_1.png\n",
      "One pixel/4/test/ sample pixel/4/test/s10_2.png\n"
     ]
    }
   ],
   "source": [
    "train_set = mydataset(train_set_dir, tfm=transform)\n",
    "test_set = mydataset(test_set_dir, tfm=transform)\n",
    "\n",
    "train_loader = DataLoader(\n",
    "    train_set, batch_size=batch_size, shuffle=True, num_workers=0, pin_memory=True\n",
    ")\n",
    "test_loader = DataLoader(\n",
    "    test_set, batch_size=batch_size, shuffle=True, num_workers=0, pin_memory=True\n",
    ")"
   ]
  },
  {
   "cell_type": "code",
   "execution_count": 10,
   "metadata": {},
   "outputs": [],
   "source": [
    "class Net(nn.Module):\n",
    "    def __init__(self):\n",
    "        super().__init__()\n",
    "        self.cnn = nn.Sequential(\n",
    "            nn.Conv2d(3, 64, 3, 1, 1),  # [64, 128, 128]\n",
    "            nn.BatchNorm2d(64),\n",
    "            nn.ReLU(),\n",
    "            nn.MaxPool2d(2, 2, 0),  # [64, 64, 64]\n",
    "            nn.Conv2d(64, 128, 3, 1, 1),  # [128, 64, 64]\n",
    "            nn.BatchNorm2d(128),\n",
    "            nn.ReLU(),\n",
    "            nn.MaxPool2d(2, 2, 0),  # [128, 32, 32]\n",
    "            nn.Conv2d(128, 256, 3, 1, 1),  # [256, 32, 32]\n",
    "            nn.BatchNorm2d(256),\n",
    "            nn.ReLU(),\n",
    "            nn.MaxPool2d(2, 2, 0),  # [256, 16, 16]\n",
    "            nn.Conv2d(256, 512, 3, 1, 1),  # [512, 16, 16]\n",
    "            nn.BatchNorm2d(512),\n",
    "            nn.ReLU(),\n",
    "            nn.MaxPool2d(2, 2, 0),  # [512, 8, 8]\n",
    "            nn.Conv2d(512, 512, 3, 1, 1),  # [512, 8, 8]\n",
    "            nn.BatchNorm2d(512),\n",
    "            nn.ReLU(),\n",
    "            nn.MaxPool2d(2, 2, 0),  # [512, 4, 4]\n",
    "        )\n",
    "        self.fc = nn.Sequential(\n",
    "            nn.Linear(512 * 4 * 4, 1024),\n",
    "            nn.ReLU(),\n",
    "            nn.Linear(1024, 512),\n",
    "            nn.ReLU(),\n",
    "            nn.Linear(512, 41),\n",
    "        )\n",
    "\n",
    "    def forward(self, x):\n",
    "        out = self.cnn(x)\n",
    "        out = out.view(out.size()[0], -1)\n",
    "        return self.fc(out)\n",
    "\n",
    "\n",
    "net = Net()"
   ]
  },
  {
   "cell_type": "code",
   "execution_count": 12,
   "metadata": {},
   "outputs": [
    {
     "name": "stderr",
     "output_type": "stream",
     "text": [
      "100%|██████████| 96/96 [01:01<00:00,  1.56it/s]\n"
     ]
    },
    {
     "name": "stdout",
     "output_type": "stream",
     "text": [
      "[ Train | 001/020 ] loss = 3.53252, acc = 0.08594\n"
     ]
    },
    {
     "name": "stderr",
     "output_type": "stream",
     "text": [
      "100%|██████████| 33/33 [00:05<00:00,  5.57it/s]\n"
     ]
    },
    {
     "name": "stdout",
     "output_type": "stream",
     "text": [
      "[ Test | 001/020 ] loss = 2.81106, acc = 0.19697\n",
      "saving model with acc 0.197\n"
     ]
    },
    {
     "name": "stderr",
     "output_type": "stream",
     "text": [
      "100%|██████████| 96/96 [01:06<00:00,  1.45it/s]\n"
     ]
    },
    {
     "name": "stdout",
     "output_type": "stream",
     "text": [
      "[ Train | 002/020 ] loss = 1.96475, acc = 0.42188\n"
     ]
    },
    {
     "name": "stderr",
     "output_type": "stream",
     "text": [
      "100%|██████████| 33/33 [00:05<00:00,  5.80it/s]\n"
     ]
    },
    {
     "name": "stdout",
     "output_type": "stream",
     "text": [
      "[ Test | 002/020 ] loss = 1.23108, acc = 0.62879\n",
      "saving model with acc 0.629\n"
     ]
    },
    {
     "name": "stderr",
     "output_type": "stream",
     "text": [
      "100%|██████████| 96/96 [01:02<00:00,  1.53it/s]\n"
     ]
    },
    {
     "name": "stdout",
     "output_type": "stream",
     "text": [
      "[ Train | 003/020 ] loss = 0.96824, acc = 0.70833\n"
     ]
    },
    {
     "name": "stderr",
     "output_type": "stream",
     "text": [
      "100%|██████████| 33/33 [00:06<00:00,  5.25it/s]\n"
     ]
    },
    {
     "name": "stdout",
     "output_type": "stream",
     "text": [
      "[ Test | 003/020 ] loss = 0.70484, acc = 0.77273\n",
      "saving model with acc 0.773\n"
     ]
    },
    {
     "name": "stderr",
     "output_type": "stream",
     "text": [
      "  9%|▉         | 9/96 [00:06<01:00,  1.44it/s]"
     ]
    }
   ],
   "source": [
    "# \"cuda\" only when GPUs are available.\n",
    "torch.cuda.is_available = lambda: False\n",
    "device = torch.device(\"cuda\" if torch.cuda.is_available() else \"cpu\")\n",
    "\n",
    "\n",
    "# Initialize a model, and put it on the device specified.\n",
    "model = Net().to(device)\n",
    "\n",
    "# For the classification task, we use cross-entropy as the measurement of performance.\n",
    "criterion = nn.CrossEntropyLoss()\n",
    "\n",
    "# Initialize optimizer, you may fine-tune some hyperparameters such as learning rate on your own.\n",
    "optimizer = torch.optim.Adam(model.parameters(), lr=0.0003, weight_decay=1e-5)\n",
    "\n",
    "# Initialize trackers, these are not parameters and should not be changed\n",
    "stale = 0\n",
    "best_acc = 0\n",
    "\n",
    "for epoch in range(n_epochs):\n",
    "    # ---------- Training ----------\n",
    "    # Make sure the model is in train mode before training.\n",
    "    model.train()\n",
    "\n",
    "    # These are used to record information in training.\n",
    "    train_loss = []\n",
    "    train_accs = []\n",
    "\n",
    "    for batch in tqdm(train_loader):\n",
    "        # A batch consists of image data and corresponding labels.\n",
    "        imgs, labels = batch\n",
    "\n",
    "        # imgs = imgs.half()\n",
    "        # print(imgs.shape,labels.shape)\n",
    "\n",
    "        # Forward the data. (Make sure data and model are on the same device.)\n",
    "        logits = model(imgs.to(device))\n",
    "\n",
    "        # Calculate the cross-entropy loss.\n",
    "        # We don't need to apply softmax before computing cross-entropy as it is done automatically.\n",
    "        loss = criterion(logits, labels.to(device))\n",
    "\n",
    "        # Gradients stored in the parameters in the previous step should be cleared out first.\n",
    "        optimizer.zero_grad()\n",
    "\n",
    "        # Compute the gradients for parameters.\n",
    "        loss.backward()\n",
    "\n",
    "        # Clip the gradient norms for stable training.\n",
    "        grad_norm = nn.utils.clip_grad_norm_(model.parameters(), max_norm=10)\n",
    "\n",
    "        # Update the parameters with computed gradients.\n",
    "        optimizer.step()\n",
    "\n",
    "        # Compute the accuracy for current batch.\n",
    "        acc = (logits.argmax(dim=-1) == labels.to(device)).float().mean()\n",
    "\n",
    "        # Record the loss and accuracy.\n",
    "        train_loss.append(loss.item())\n",
    "        train_accs.append(acc)\n",
    "\n",
    "    train_loss = sum(train_loss) / len(train_loss)\n",
    "    train_acc = sum(train_accs) / len(train_accs)\n",
    "\n",
    "    # Print the information.\n",
    "    print(\n",
    "        f\"[ Train | {epoch + 1:03d}/{n_epochs:03d} ] loss = {train_loss:.5f}, acc = {train_acc:.5f}\"\n",
    "    )\n",
    "\n",
    "    # ---------- Validation ----------\n",
    "    # Make sure the model is in eval mode so that some modules like dropout are disabled and work normally.\n",
    "    model.eval()\n",
    "\n",
    "    # These are used to record information in validation.\n",
    "    test_loss = []\n",
    "    test_accs = []\n",
    "\n",
    "    # Iterate the validation set by batches.\n",
    "    for batch in tqdm(test_loader):\n",
    "        # A batch consists of image data and corresponding labels.\n",
    "        imgs, labels = batch\n",
    "        # imgs = imgs.half()\n",
    "\n",
    "        # We don't need gradient in validation.\n",
    "        # Using torch.no_grad() accelerates the forward process.\n",
    "        with torch.no_grad():\n",
    "            logits = model(imgs.to(device))\n",
    "\n",
    "        # We can still compute the loss (but not the gradient).\n",
    "        loss = criterion(logits, labels.to(device))\n",
    "\n",
    "        # Compute the accuracy for current batch.\n",
    "        acc = (logits.argmax(dim=-1) == labels.to(device)).float().mean()\n",
    "\n",
    "        # compute f1-score\n",
    "\n",
    "        # compute precision\n",
    "\n",
    "        # Record the loss and accuracy.\n",
    "        test_loss.append(loss.item())\n",
    "        test_accs.append(acc)\n",
    "        # break\n",
    "\n",
    "    # The average loss and accuracy for entire validation set is the average of the recorded values.\n",
    "    test_loss = sum(test_loss) / len(test_loss)\n",
    "    test_acc = sum(test_accs) / len(test_accs)\n",
    "\n",
    "    # Print the information.\n",
    "    print(\n",
    "        f\"[ Test | {epoch + 1:03d}/{n_epochs:03d} ] loss = {test_loss:.5f}, acc = {test_acc:.5f}\"\n",
    "    )\n",
    "\n",
    "    # save models\n",
    "    if test_acc > best_acc:\n",
    "        stale = 0\n",
    "        best_acc = test_acc\n",
    "        torch.save(model.state_dict(), model_path)\n",
    "        print(\"saving model with acc {:.3f}\".format(best_acc))\n",
    "    else:\n",
    "        stale += 1\n",
    "        if stale > patience:\n",
    "            print(f\"No improvment {patience} consecutive epochs, early stopping\")\n",
    "            break\n",
    "\n",
    "    # if not validating, save the last epoch\n",
    "    if len(test_loader) == 0:\n",
    "        torch.save(model.state_dict(), model_path)\n",
    "        print(\"saving model at last epoch\")"
   ]
  },
  {
   "cell_type": "code",
   "execution_count": 81,
   "metadata": {},
   "outputs": [],
   "source": [
    "from sklearn.metrics import classification_report\n",
    "\n",
    "model_best = Net().to(device)\n",
    "model_best.load_state_dict(torch.load(model_path))\n",
    "model_best.eval()\n",
    "label_pred = []\n",
    "label_true = []\n",
    "\n",
    "with torch.no_grad():\n",
    "    for data, labels in test_loader:\n",
    "        test_pred = model_best(data.to(device))\n",
    "        test_label = np.argmax(test_pred.cpu().data.numpy(), axis=1)\n",
    "        label_pred += test_label.squeeze().tolist()\n",
    "        label_true += labels.squeeze().tolist()\n",
    "\n",
    "    report = classification_report(\n",
    "        label_true, label_pred, labels=[i for i in range(1, 41)], zero_division=0\n",
    "    )\n",
    "    print(report)\n",
    "    with open(\"\".join(model_path[2:].split(\".\")[:-1]) + \"_report.json\", \"w\") as f:\n",
    "        f.write(report)\n"
   ]
  }
 ],
 "metadata": {
  "kernelspec": {
   "display_name": "pytorch",
   "language": "python",
   "name": "python3"
  },
  "language_info": {
   "codemirror_mode": {
    "name": "ipython",
    "version": 3
   },
   "file_extension": ".py",
   "mimetype": "text/x-python",
   "name": "python",
   "nbconvert_exporter": "python",
   "pygments_lexer": "ipython3",
   "version": "3.9.7"
  },
  "orig_nbformat": 4
 },
 "nbformat": 4,
 "nbformat_minor": 2
}
